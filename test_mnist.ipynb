{
 "cells": [
  {
   "cell_type": "markdown",
   "metadata": {},
   "source": [
    "Test SOM on MNIST dataset"
   ]
  },
  {
   "cell_type": "code",
   "execution_count": 2,
   "metadata": {},
   "outputs": [],
   "source": [
    "import random\n",
    "import numpy as np\n",
    "from matplotlib import pyplot as plt"
   ]
  },
  {
   "cell_type": "markdown",
   "metadata": {},
   "source": [
    "Import tensoflow and SOM"
   ]
  },
  {
   "cell_type": "code",
   "execution_count": 3,
   "metadata": {},
   "outputs": [
    {
     "name": "stderr",
     "output_type": "stream",
     "text": [
      "/Library/Frameworks/Python.framework/Versions/3.5/lib/python3.5/importlib/_bootstrap.py:222: RuntimeWarning: compiletime version 3.6 of module 'tensorflow.python.framework.fast_tensor_util' does not match runtime version 3.5\n  return f(*args, **kwds)\n"
     ]
    }
   ],
   "source": [
    "from tensorflow.examples.tutorials.mnist import input_data\n",
    "from tf_som_implementation import Som"
   ]
  },
  {
   "cell_type": "code",
   "execution_count": 4,
   "metadata": {},
   "outputs": [
    {
     "name": "stdout",
     "output_type": "stream",
     "text": [
      "Extracting MNIST_data/train-images-idx3-ubyte.gz\n"
     ]
    },
    {
     "name": "stdout",
     "output_type": "stream",
     "text": [
      "Extracting MNIST_data/train-labels-idx1-ubyte.gz\nExtracting MNIST_data/t10k-images-idx3-ubyte.gz\nExtracting MNIST_data/t10k-labels-idx1-ubyte.gz\n"
     ]
    }
   ],
   "source": [
    "mnist = input_data.read_data_sets(\"MNIST_data\", one_hot=True)"
   ]
  },
  {
   "cell_type": "markdown",
   "metadata": {},
   "source": [
    "Set up test parameters"
   ]
  },
  {
   "cell_type": "code",
   "execution_count": 5,
   "metadata": {},
   "outputs": [],
   "source": [
    "size_train = 100\n",
    "size_test = 110\n",
    "iterations = 200"
   ]
  },
  {
   "cell_type": "code",
   "execution_count": 6,
   "metadata": {},
   "outputs": [
    {
     "name": "stdout",
     "output_type": "stream",
     "text": [
      "Set training vectors\n"
     ]
    },
    {
     "name": "stdout",
     "output_type": "stream",
     "text": [
      "Som created\n"
     ]
    }
   ],
   "source": [
    "if size_test < size_train:\n",
    "    size_test = int(1.1 * size_train)\n",
    "\n",
    "# get train vectors\n",
    "x_train, y_train = mnist.train.images[:size_train, :],\\\n",
    "                   mnist.train.labels[:size_train, :]\n",
    "\n",
    "# get test vectors and trim accordingly with sizes\n",
    "x_test, y_test = mnist.train.images[:size_test, :], \\\n",
    "                 mnist.train.labels[:size_test, :]\n",
    "x_test, y_test = x_test[size_train:size_test, :], \\\n",
    "                 y_test[size_train:size_test, :]\n",
    "print(\"Set training vectors\")\n",
    "\n",
    "# train som\n",
    "som = Som(30, 30, x_train.shape[1], iterations)\n",
    "print(\"Som created\")\n",
    "\n",
    "som.train(x_train)\n",
    "print(\"Training completed\")\n",
    "print(\"Parsing results\")\n",
    "\n",
    "# results on training vector\n",
    "mapped_train = np.array(som.map_vects(x_train))\n",
    "x1, y1 = mapped_train[:, 0], mapped_train[:, 1]\n",
    "\n",
    "index_train = [np.where(r == 1)[0][0] for r in y_train]\n",
    "index_train = list(map(str, index_train))\n",
    "\n",
    "# results on testing vector\n",
    "mapped_test = np.array(som.map_vects(x_test))\n",
    "x2, y2 = mapped_test[:, 0], mapped_test[:, 1]\n",
    "\n",
    "index_test = [np.where(r == 1)[0][0] for r in y_test]\n",
    "index_test = list(map(str, index_test))"
   ]
  },
  {
   "cell_type": "markdown",
   "metadata": {},
   "source": [
    "Additional presentation functions"
   ]
  },
  {
   "cell_type": "code",
   "execution_count": null,
   "metadata": {},
   "outputs": [],
   "source": [
    "\n",
    "def add_text(index_cur, mapped_cur, color=\"white\"):\n",
    "    for i, m in enumerate(mapped_cur):\n",
    "        plt.text(m[0], m[1], index_cur[i], ha='center', va='center',\n",
    "                 bbox=dict(facecolor=color, alpha=0.5, lw=0))\n",
    "\n",
    "\n",
    "def display_digit(num):\n",
    "    label = y_train[num].argmax(axis=0)\n",
    "    image = x_train[num].reshape([28, 28])\n",
    "    plt.title('Example: %d  Label: %d' % (num, label))\n",
    "    plt.imshow(image, cmap=plt.get_cmap('gray_r'))\n",
    "    plt.show()"
   ]
  },
  {
   "cell_type": "markdown",
   "metadata": {},
   "source": [
    "Display digits"
   ]
  },
  {
   "cell_type": "code",
   "execution_count": null,
   "metadata": {},
   "outputs": [],
   "source": [
    "display_digit(random.randint(0, x_train.shape[0]))"
   ]
  },
  {
   "cell_type": "markdown",
   "metadata": {},
   "source": [
    "Results are displayed on the testing and training data"
   ]
  },
  {
   "cell_type": "code",
   "execution_count": null,
   "metadata": {},
   "outputs": [],
   "source": [
    "plt.figure(1)\n",
    "\n",
    "# training\n",
    "plt.subplot(121)\n",
    "plt.scatter(x1, y1)\n",
    "add_text(index_train, mapped_train)\n",
    "plt.title(\"MNIST training size=\" + str(size_train))\n",
    "\n",
    "plt.subplot(122)\n",
    "# results from training\n",
    "plt.scatter(x1, y1)\n",
    "add_text(index_train, mapped_train)\n",
    "# results from testing\n",
    "plt.scatter(x2, y2)\n",
    "add_text(index_test, mapped_test, color=\"red\")\n",
    "plt.title(\"MNIST testing size=\" + str(size_test) +\n",
    "          \" upon training size=\" + str(size_train))\n",
    "\n",
    "plt.show()"
   ]
  }
 ],
 "metadata": {
  "language": "python"
 },
 "nbformat": 4,
 "nbformat_minor": 2
}
